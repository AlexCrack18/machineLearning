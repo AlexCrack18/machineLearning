{
  "cells": [
    {
      "cell_type": "markdown",
      "metadata": {
        "colab_type": "text",
        "id": "view-in-github"
      },
      "source": [
        "<a href=\"https://colab.research.google.com/github/AlexCrack18/machineLearning/blob/main/Linear_Lab.ipynb\" target=\"_parent\"><img src=\"https://colab.research.google.com/assets/colab-badge.svg\" alt=\"Open In Colab\"/></a>"
      ]
    },
    {
      "cell_type": "code",
      "execution_count": null,
      "metadata": {
        "id": "_KB7Uz3y-Wil"
      },
      "outputs": [],
      "source": [
        "import numpy as np\n",
        "import pandas as pd\n",
        "from matplotlib.pyplot import subplots\n",
        "import statsmodels.api as sm"
      ]
    },
    {
      "cell_type": "code",
      "execution_count": null,
      "metadata": {
        "id": "-UTuwHdz_gWg"
      },
      "outputs": [],
      "source": [
        "from statsmodels.stats.outliers_influence \\\n",
        "import variance_inflation_factor as VIF\n",
        "from statsmodels.stats.anova import anova_lm"
      ]
    },
    {
      "cell_type": "code",
      "execution_count": null,
      "metadata": {
        "id": "aXcjQT6t_g0L"
      },
      "outputs": [],
      "source": [
        "from ISLP import load_data\n",
        "from ISLP.models import (ModelSpec as MS, summarize , poly)"
      ]
    },
    {
      "cell_type": "code",
      "execution_count": null,
      "metadata": {
        "colab": {
          "base_uri": "https://localhost:8080/"
        },
        "id": "aJpOa0l2AkBr",
        "outputId": "85854911-12fe-4da5-e89c-bc3e973bf95a"
      },
      "outputs": [],
      "source": [
        "dir()"
      ]
    },
    {
      "cell_type": "code",
      "execution_count": null,
      "metadata": {
        "colab": {
          "base_uri": "https://localhost:8080/"
        },
        "id": "EjAuiBj1Vq_E",
        "outputId": "e7377a5c-bdcc-479c-962d-1d24c1059c9b"
      },
      "outputs": [],
      "source": [
        "Boston = load_data(\"Boston\")\n",
        "Boston.columns"
      ]
    },
    {
      "cell_type": "code",
      "execution_count": null,
      "metadata": {
        "colab": {
          "base_uri": "https://localhost:8080/"
        },
        "id": "z1VsjJL9VyBY",
        "outputId": "229d28e6-f79a-434a-ff57-c52525916661"
      },
      "outputs": [],
      "source": [
        "dir(Boston)"
      ]
    },
    {
      "cell_type": "code",
      "execution_count": null,
      "metadata": {
        "colab": {
          "base_uri": "https://localhost:8080/",
          "height": 424
        },
        "id": "KxLWXMLeW__T",
        "outputId": "12dfa589-3852-4918-96c7-8e4a0d7769fe"
      },
      "outputs": [],
      "source": [
        "Boston"
      ]
    },
    {
      "cell_type": "code",
      "execution_count": null,
      "metadata": {
        "colab": {
          "base_uri": "https://localhost:8080/",
          "height": 175
        },
        "id": "B86-FdEcWIKK",
        "outputId": "8fc0103c-ad58-481c-81b4-6ec5cf95bac6"
      },
      "outputs": [],
      "source": [
        "X = pd.DataFrame({'intercept': np.ones(Boston.shape[0]), 'lstat': Boston['lstat']})\n",
        "X[:4]"
      ]
    },
    {
      "cell_type": "code",
      "execution_count": null,
      "metadata": {
        "id": "7bXMqKb3WAoc"
      },
      "outputs": [],
      "source": [
        "y = Boston['medv']\n",
        "model = sm.OLS(y, X)\n",
        "results = model.fit()"
      ]
    },
    {
      "cell_type": "code",
      "execution_count": null,
      "metadata": {
        "colab": {
          "base_uri": "https://localhost:8080/",
          "height": 112
        },
        "id": "Bj1B96lqYG-M",
        "outputId": "e5a99a61-29aa-49ed-9768-e25be800e5cc"
      },
      "outputs": [],
      "source": [
        "summarize(results)"
      ]
    },
    {
      "cell_type": "code",
      "execution_count": null,
      "metadata": {
        "id": "c3-dvfa6YQAa"
      },
      "outputs": [],
      "source": [
        "desing = MS(['lstat'])\n",
        "X = desing.fit_transform(Boston)\n",
        "X[:4]"
      ]
    },
    {
      "cell_type": "code",
      "execution_count": null,
      "metadata": {},
      "outputs": [],
      "source": [
        "results.summary()"
      ]
    },
    {
      "cell_type": "code",
      "execution_count": null,
      "metadata": {},
      "outputs": [],
      "source": [
        "results.params"
      ]
    },
    {
      "cell_type": "code",
      "execution_count": null,
      "metadata": {},
      "outputs": [],
      "source": [
        "new_df = pd.DataFrame({'lstat':[5,10,15]})\n",
        "newX = desing.transform(new_df)\n",
        "newX"
      ]
    },
    {
      "cell_type": "code",
      "execution_count": null,
      "metadata": {},
      "outputs": [],
      "source": [
        "new_predictions = results.get_prediction(newX)\n",
        "new_predictions.predicted_mean"
      ]
    },
    {
      "cell_type": "code",
      "execution_count": null,
      "metadata": {},
      "outputs": [],
      "source": [
        "new_predictions.conf_int(alpha =0.05)"
      ]
    },
    {
      "cell_type": "code",
      "execution_count": null,
      "metadata": {},
      "outputs": [],
      "source": [
        "new_predictions.conf_int(alpha =0.05, obs=True)"
      ]
    },
    {
      "cell_type": "code",
      "execution_count": null,
      "metadata": {},
      "outputs": [],
      "source": [
        "def abline(ax, b, m, *args, **kwargs):\n",
        "    \"Add a line with slope m and intercept b to ax.\"\n",
        "    xlim = ax.get_xlim()\n",
        "    ylim = [m* xlim[0] + b, m * xlim[1] + b]\n",
        "    ax.plot(xlim,ylim, *args, **kwargs)"
      ]
    },
    {
      "cell_type": "code",
      "execution_count": null,
      "metadata": {},
      "outputs": [],
      "source": [
        "ax = Boston.plot.scatter('lstat', 'medv')\n",
        "abline(ax, \n",
        "       results.params[0], \n",
        "       results.params[1], \n",
        "       'r--', \n",
        "       linewidth=3)"
      ]
    },
    {
      "cell_type": "code",
      "execution_count": null,
      "metadata": {},
      "outputs": [],
      "source": [
        "ax = subplots(figsize=(8, 8))[1]\n",
        "ax.scatter(results.fittedvalues, results.resid)\n",
        "ax.set_xlabel('Fitted values')\n",
        "ax.set_ylabel('Residuals')\n",
        "ax.axhline(0, c='k', linestyle='--')"
      ]
    },
    {
      "cell_type": "code",
      "execution_count": null,
      "metadata": {},
      "outputs": [],
      "source": [
        "infl = results.get_influence()\n",
        "ax = subplots(figsize=(8, 8))[1]\n",
        "ax.scatter(np.arange(X.shape[0]), infl.hat_matrix_diag)\n",
        "ax.set_xlabel('Index')\n",
        "ax.set_ylabel('Leverage')\n",
        "np.argmax(infl.hat_matrix_diag)"
      ]
    },
    {
      "cell_type": "code",
      "execution_count": null,
      "metadata": {},
      "outputs": [],
      "source": [
        "X = MS(['lstat', 'age']).fit_transform(Boston)\n",
        "model1 = sm.OLS(y, X)\n",
        "results1 = model1.fit()\n",
        "summarize(results1)"
      ]
    },
    {
      "cell_type": "code",
      "execution_count": null,
      "metadata": {},
      "outputs": [],
      "source": [
        "terms = Boston.columns.drop('medv')\n",
        "terms"
      ]
    },
    {
      "cell_type": "code",
      "execution_count": null,
      "metadata": {},
      "outputs": [],
      "source": [
        "X = MS(terms).fit_transform(Boston)\n",
        "model = sm.OLS(y, X)\n",
        "results = model.fit()\n",
        "summarize(results)"
      ]
    },
    {
      "cell_type": "code",
      "execution_count": null,
      "metadata": {},
      "outputs": [],
      "source": [
        "minus_age = Boston.columns.drop(['medv', 'age'])\n",
        "Xma = MS(minus_age).fit_transform(Boston)\n",
        "model1 = sm.OLS(y, Xma)\n",
        "summarize(model1.fit())"
      ]
    },
    {
      "cell_type": "code",
      "execution_count": null,
      "metadata": {},
      "outputs": [],
      "source": [
        "vals = [VIF(X, i) for i in range(1, X.shape[1])]\n",
        "vif = pd.DataFrame({'vif': vals}, index=X.columns[1:])\n",
        "vif"
      ]
    },
    {
      "cell_type": "code",
      "execution_count": null,
      "metadata": {},
      "outputs": [],
      "source": [
        "X = MS(['lstat', 'age', ('lstat', 'age')]).fit_transform(Boston)\n",
        "model2 = sm.OLS(y, X)\n",
        "summarize(model2.fit())"
      ]
    },
    {
      "cell_type": "code",
      "execution_count": null,
      "metadata": {},
      "outputs": [],
      "source": [
        "X  = MS([poly('lstat', degree =2), 'age']).fit_transform(Boston)\n",
        "model3 = sm.OLS(y, X)\n",
        "results3 = model3.fit()\n",
        "summarize(results3)"
      ]
    },
    {
      "cell_type": "code",
      "execution_count": null,
      "metadata": {},
      "outputs": [],
      "source": [
        "anova_lm(results1, results3)"
      ]
    },
    {
      "cell_type": "code",
      "execution_count": null,
      "metadata": {},
      "outputs": [],
      "source": [
        "ax= subplots(figsize=(8, 8))[1]\n",
        "ax.scatter(results3.fittedvalues, results3.resid)\n",
        "ax.set_xlabel('Fitted value')\n",
        "ax.set_ylabel('Residual')\n",
        "ax.axhline(0, c='k', ls='--')"
      ]
    },
    {
      "cell_type": "code",
      "execution_count": null,
      "metadata": {},
      "outputs": [],
      "source": [
        "Carseats = load_data('Carseats')\n",
        "Carseats.columns"
      ]
    },
    {
      "cell_type": "code",
      "execution_count": null,
      "metadata": {},
      "outputs": [],
      "source": [
        "allvars = list(Carseats.columns.drop('Sales'))\n",
        "y = Carseats['Sales']\n",
        "final = allvars + [('Income', 'Advertising'),('Price', 'Age')]\n",
        "X = MS(final).fit_transform(Carseats)\n",
        "model = sm.OLS(y, X)\n",
        "summarize(model.fit())"
      ]
    },
    {
      "cell_type": "code",
      "execution_count": null,
      "metadata": {},
      "outputs": [],
      "source": []
    }
  ],
  "metadata": {
    "colab": {
      "authorship_tag": "ABX9TyNinKF17GF7nXNUDQnQeSlV",
      "include_colab_link": true,
      "provenance": []
    },
    "kernelspec": {
      "display_name": "myenvJupNotebooks",
      "language": "python",
      "name": "python3"
    },
    "language_info": {
      "codemirror_mode": {
        "name": "ipython",
        "version": 3
      },
      "file_extension": ".py",
      "mimetype": "text/x-python",
      "name": "python",
      "nbconvert_exporter": "python",
      "pygments_lexer": "ipython3",
      "version": "3.13.5"
    }
  },
  "nbformat": 4,
  "nbformat_minor": 0
}
